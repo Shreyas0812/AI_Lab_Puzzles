{
  "nbformat": 4,
  "nbformat_minor": 0,
  "metadata": {
    "colab": {
      "name": "Simple_Reading_Comprehension.ipynb",
      "provenance": [],
      "collapsed_sections": [],
      "authorship_tag": "ABX9TyNGJpq5z04Jme13FP5ue5Ix",
      "include_colab_link": true
    },
    "kernelspec": {
      "name": "python3",
      "display_name": "Python 3"
    }
  },
  "cells": [
    {
      "cell_type": "markdown",
      "metadata": {
        "id": "view-in-github",
        "colab_type": "text"
      },
      "source": [
        "<a href=\"https://colab.research.google.com/github/Shreyas0812/AI_Lab_Puzzles/blob/main/Simple_Reading_Comprehension.ipynb\" target=\"_parent\"><img src=\"https://colab.research.google.com/assets/colab-badge.svg\" alt=\"Open In Colab\"/></a>"
      ]
    },
    {
      "cell_type": "markdown",
      "metadata": {
        "id": "rCR8uVdMYdH9"
      },
      "source": [
        "# Experiment 8 - Implementation of Knowledge Representation\n",
        "\n"
      ]
    },
    {
      "cell_type": "markdown",
      "metadata": {
        "id": "EHBI79VIY2KS"
      },
      "source": [
        "<div style=\"text-align: right\">\n",
        "<font size=\"+0.3\">-Shreyas Raorane</font><br>\n",
        "<font size=\"+0.3\">-RA1811028010016</font>\n",
        "</div>"
      ]
    },
    {
      "cell_type": "markdown",
      "metadata": {
        "id": "AKXTSNnEY6w8"
      },
      "source": [
        "### Question\n",
        "\n",
        "1. Build the knowledge graph for the following \n",
        "\"The Chennai Super Kings (CSK) are a franchise cricket team based in Chennai, Tamil Nadu, which plays in the Indian Premier League (IPL). Founded in 2008, the team plays its home matches at the M. A. Chidambaram Stadium in Chennai. The team served a two-year suspension from the IPL starting July 2015 for the alleged involvement of their owners in the 2013 IPL betting case, and won the title in its comeback season. The team is captained by Mahendra Singh Dhoni and coached by Stephen Fleming. The Super Kings have lifted the IPL title thrice (in 2010, 2011 and 2018), and have the highest win percentage of matches among all teams in the IPL (59.83 %). They hold the records of most appearances in the playoffs (ten) and the Final (eight) of the IPL. In addition, they have also won the Champions League Twenty20 in 2010 and 2014. The brand value of the Super Kings in 2019 is estimated to be around ₹732 crore (roughly $104 million), making them the second-most valuable IPL franchise, after the Mumbai Indians.\"\n",
        "\n",
        "2. The knowledge graph should able to answer the following (not limited to) <br>\n",
        "a. Who is the captain of CSK? <br>\n",
        "b. What is winning percentage of CSK? <br>\n",
        "c. How many times CSK played finals? <br>"
      ]
    },
    {
      "cell_type": "markdown",
      "metadata": {
        "id": "-yJVujv8Y-2X"
      },
      "source": [
        "## Manual Procedure\n",
        "\n",
        "Machine needs to understand the natural language for it to answer the questions by gathering useful information from the given text. This can be done by using NLP techniques such as sentence segmentation, dependency parsing, parts of speech tagging, and entity recognition.\n",
        "\n",
        "Sentence Segmentation is the first step in building a knowledge graph. Here, we split the text document into sentences so it is easy to understand.\n",
        "\n",
        "Entities Extraction is to extract entities from the sentences. For each sentence, we can use spaCy to figure out what kind of word is in that sentence: is it a subject, an object, a predicate etc.\n",
        "\n",
        "Extracting Relations is done to make sense of the entities and how they relate to each other.\n",
        "\n",
        "Then we can build a knowlegde graph based on the information gathered."
      ]
    },
    {
      "cell_type": "code",
      "metadata": {
        "id": "AH-zfRHahGZ5",
        "colab": {
          "base_uri": "https://localhost:8080/"
        },
        "outputId": "7a6a2edd-df17-4ac3-ac2f-19215e83a324"
      },
      "source": [
        "!pip install spacy"
      ],
      "execution_count": 2,
      "outputs": [
        {
          "output_type": "stream",
          "text": [
            "Requirement already satisfied: spacy in /usr/local/lib/python3.7/dist-packages (2.2.4)\n",
            "Requirement already satisfied: plac<1.2.0,>=0.9.6 in /usr/local/lib/python3.7/dist-packages (from spacy) (1.1.3)\n",
            "Requirement already satisfied: thinc==7.4.0 in /usr/local/lib/python3.7/dist-packages (from spacy) (7.4.0)\n",
            "Requirement already satisfied: numpy>=1.15.0 in /usr/local/lib/python3.7/dist-packages (from spacy) (1.19.5)\n",
            "Requirement already satisfied: cymem<2.1.0,>=2.0.2 in /usr/local/lib/python3.7/dist-packages (from spacy) (2.0.5)\n",
            "Requirement already satisfied: murmurhash<1.1.0,>=0.28.0 in /usr/local/lib/python3.7/dist-packages (from spacy) (1.0.5)\n",
            "Requirement already satisfied: tqdm<5.0.0,>=4.38.0 in /usr/local/lib/python3.7/dist-packages (from spacy) (4.41.1)\n",
            "Requirement already satisfied: catalogue<1.1.0,>=0.0.7 in /usr/local/lib/python3.7/dist-packages (from spacy) (1.0.0)\n",
            "Requirement already satisfied: setuptools in /usr/local/lib/python3.7/dist-packages (from spacy) (54.2.0)\n",
            "Requirement already satisfied: srsly<1.1.0,>=1.0.2 in /usr/local/lib/python3.7/dist-packages (from spacy) (1.0.5)\n",
            "Requirement already satisfied: blis<0.5.0,>=0.4.0 in /usr/local/lib/python3.7/dist-packages (from spacy) (0.4.1)\n",
            "Requirement already satisfied: preshed<3.1.0,>=3.0.2 in /usr/local/lib/python3.7/dist-packages (from spacy) (3.0.5)\n",
            "Requirement already satisfied: requests<3.0.0,>=2.13.0 in /usr/local/lib/python3.7/dist-packages (from spacy) (2.23.0)\n",
            "Requirement already satisfied: wasabi<1.1.0,>=0.4.0 in /usr/local/lib/python3.7/dist-packages (from spacy) (0.8.2)\n",
            "Requirement already satisfied: importlib-metadata>=0.20; python_version < \"3.8\" in /usr/local/lib/python3.7/dist-packages (from catalogue<1.1.0,>=0.0.7->spacy) (3.10.0)\n",
            "Requirement already satisfied: idna<3,>=2.5 in /usr/local/lib/python3.7/dist-packages (from requests<3.0.0,>=2.13.0->spacy) (2.10)\n",
            "Requirement already satisfied: chardet<4,>=3.0.2 in /usr/local/lib/python3.7/dist-packages (from requests<3.0.0,>=2.13.0->spacy) (3.0.4)\n",
            "Requirement already satisfied: certifi>=2017.4.17 in /usr/local/lib/python3.7/dist-packages (from requests<3.0.0,>=2.13.0->spacy) (2020.12.5)\n",
            "Requirement already satisfied: urllib3!=1.25.0,!=1.25.1,<1.26,>=1.21.1 in /usr/local/lib/python3.7/dist-packages (from requests<3.0.0,>=2.13.0->spacy) (1.24.3)\n",
            "Requirement already satisfied: zipp>=0.5 in /usr/local/lib/python3.7/dist-packages (from importlib-metadata>=0.20; python_version < \"3.8\"->catalogue<1.1.0,>=0.0.7->spacy) (3.4.1)\n",
            "Requirement already satisfied: typing-extensions>=3.6.4; python_version < \"3.8\" in /usr/local/lib/python3.7/dist-packages (from importlib-metadata>=0.20; python_version < \"3.8\"->catalogue<1.1.0,>=0.0.7->spacy) (3.7.4.3)\n"
          ],
          "name": "stdout"
        }
      ]
    },
    {
      "cell_type": "code",
      "metadata": {
        "id": "rjZHpf1VXeEh"
      },
      "source": [
        "import spacy"
      ],
      "execution_count": 3,
      "outputs": []
    },
    {
      "cell_type": "code",
      "metadata": {
        "id": "21gfsz87XtlK"
      },
      "source": [
        "def is_token_allowed(token):\n",
        "    if (not token or token.is_stop or token.is_punct):\n",
        "        return False\n",
        "    return True"
      ],
      "execution_count": 4,
      "outputs": []
    },
    {
      "cell_type": "code",
      "metadata": {
        "id": "QSw-iv8OXvVW"
      },
      "source": [
        "def preprocess_token(token):\n",
        "    # Reduce token to its lowercase lemma form\n",
        "    return token.lemma_.strip().lower()"
      ],
      "execution_count": 5,
      "outputs": []
    },
    {
      "cell_type": "code",
      "metadata": {
        "colab": {
          "base_uri": "https://localhost:8080/"
        },
        "id": "eg0heOhuXxoO",
        "outputId": "c1d837e2-a3a1-4047-f870-7014adda9f81"
      },
      "source": [
        "if __name__ == '__main__':\n",
        "\n",
        "    paragraph = \"The Chennai Super Kings (CSK) are a franchise cricket team based in Chennai, Tamil Nadu, which plays in the Indian Premier League (IPL). Founded in 2008, the team plays its home matches at the M. A. Chidambaram Stadium in Chennai. The team served a two-year suspension from the IPL starting July 2015 for the alleged involvement of their owners in the 2013 IPL betting case, and won the title in its comeback season. The team is captained by Mahendra Singh Dhoni and coached by Stephen Fleming. The Super Kings have lifted the IPL title thrice (in 2010, 2011 and 2018), and have the highest win percentage of matches among all teams in the IPL (59.83 %). They hold the records of most appearances in the playoffs (ten) and the Final (eight) of the IPL. In addition, they have also won the Champions League Twenty20 in 2010 and 2014. The brand value of the Super Kings in 2019 is estimated to be around ₹732 crore (roughly $104 million), making them the second-most valuable IPL franchise, after the Mumbai Indians.\"\n",
        "    \n",
        "    nlp = spacy.load('en_core_web_sm')\n",
        "\n",
        "    doc = nlp(paragraph)\n",
        "\n",
        "    #print ([token.text for token in doc])\n",
        "\n",
        "    sentences = list(doc.sents)\n",
        "\n",
        "    print('Enter 0 to exit...')\n",
        "    while True:\n",
        "        ques = input('Enter the Question: ')\n",
        "\n",
        "        if (ques == '0'):\n",
        "            break\n",
        "        \n",
        "        print('Answer: ')\n",
        "        qdoc = nlp(ques)\n",
        "        ques_token = [preprocess_token(token) for token in qdoc if is_token_allowed(token)]\n",
        "\n",
        "        for sentence in sentences:\n",
        "            #print(sentence)\n",
        "            final_token = [preprocess_token(token) for token in sentence if is_token_allowed(token)]\n",
        "            #print(final_token)\n",
        "            \n",
        "            for qtoken in ques_token:\n",
        "                #print(qtoken)\n",
        "                if qtoken in final_token:\n",
        "                    print(sentence)\n",
        "                    break\n",
        "         \n",
        "        print()"
      ],
      "execution_count": 8,
      "outputs": [
        {
          "output_type": "stream",
          "text": [
            "Enter 0 to exit...\n",
            "Enter the Question: Who is the captain of CSK?\n",
            "Answer: \n",
            "The Chennai Super Kings (CSK) are a franchise cricket team based in Chennai, Tamil Nadu, which plays in the Indian Premier League (IPL).\n",
            "The team is captained by Mahendra Singh Dhoni and coached by Stephen Fleming.\n",
            "\n",
            "Enter the Question: What is winning percentage of CSK?\n",
            "Answer: \n",
            "The Chennai Super Kings (CSK) are a franchise cricket team based in Chennai, Tamil Nadu, which plays in the Indian Premier League (IPL).\n",
            "The team served a two-year suspension from the IPL starting July 2015 for the alleged involvement of their owners in the 2013 IPL betting case, and won the title in its comeback season.\n",
            "The Super Kings have lifted the IPL title thrice (in 2010, 2011 and 2018), and have the highest win percentage of matches among all teams in the IPL (59.83 %).\n",
            "In addition, they have also won the Champions League Twenty20 in 2010 and 2014.\n",
            "\n",
            "Enter the Question: How many times CSK played finals?\n",
            "Answer: \n",
            "The Chennai Super Kings (CSK) are a franchise cricket team based in Chennai, Tamil Nadu, which plays in the Indian Premier League (IPL).\n",
            "Founded in 2008, the team plays its home matches at the M. A. Chidambaram Stadium in Chennai.\n",
            "They hold the records of most appearances in the playoffs (ten) and the Final (eight) of the IPL.\n",
            "\n",
            "Enter the Question: 0\n"
          ],
          "name": "stdout"
        }
      ]
    },
    {
      "cell_type": "markdown",
      "metadata": {
        "id": "3YHuE8olZ0Kt"
      },
      "source": [
        "## Result: Successfully Implemented the Knowledge representation Problem"
      ]
    }
  ]
}