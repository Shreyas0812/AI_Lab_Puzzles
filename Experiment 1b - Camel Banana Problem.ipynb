{
 "cells": [
  {
   "cell_type": "code",
   "execution_count": 53,
   "metadata": {},
   "outputs": [
    {
     "name": "stdout",
     "output_type": "stream",
     "text": [
      "Enter distance between start and end point: 1000\n",
      "Enter the total number of banana's: 3000\n",
      "Enter the maximum number of banana's camel can carry: 1000\n",
      "Number of banana's eaten per km: 1\n"
     ]
    }
   ],
   "source": [
    "distance = int(input('Enter distance between start and end point: '))\n",
    "tot_bananas = int(input('Enter the total number of banana\\'s: '))\n",
    "max_bananas = int(input('Enter the maximum number of banana\\'s camel can carry: '))\n",
    "eat_banana = int(input('Number of banana\\'s eaten per km: '))"
   ]
  },
  {
   "cell_type": "code",
   "execution_count": 54,
   "metadata": {},
   "outputs": [],
   "source": [
    "st_pt_bananas = tot_bananas"
   ]
  },
  {
   "cell_type": "code",
   "execution_count": 55,
   "metadata": {},
   "outputs": [
    {
     "data": {
      "text/plain": [
       "3.0"
      ]
     },
     "execution_count": 55,
     "metadata": {},
     "output_type": "execute_result"
    }
   ],
   "source": [
    "number_of_trips = tot_bananas/max_bananas\n",
    "number_of_trips"
   ]
  },
  {
   "cell_type": "code",
   "execution_count": 56,
   "metadata": {},
   "outputs": [
    {
     "data": {
      "text/plain": [
       "[0, 0, 0]"
      ]
     },
     "execution_count": 56,
     "metadata": {},
     "output_type": "execute_result"
    }
   ],
   "source": [
    "intermediate_points = [0 for a in range(int(number_of_trips))]\n",
    "intermediate_points"
   ]
  },
  {
   "cell_type": "markdown",
   "metadata": {},
   "source": [
    "We have to transport all the bananas in sections, to cover minimum distance, the entire batch is moved forwards"
   ]
  },
  {
   "cell_type": "code",
   "execution_count": 57,
   "metadata": {},
   "outputs": [
    {
     "name": "stdout",
     "output_type": "stream",
     "text": [
      "[1000, 2000]\n",
      "[3000, 2000, 1000]\n"
     ]
    }
   ],
   "source": [
    "intermediate_points_bananas = [1000*a for a in range(1, int(number_of_trips))]\n",
    "print(intermediate_points_bananas)\n",
    "intermediate_points_bananas.reverse()\n",
    "intermediate_points_bananas.insert(0, st_pt_bananas)\n",
    "print(intermediate_points_bananas)"
   ]
  },
  {
   "cell_type": "markdown",
   "metadata": {},
   "source": [
    "Number of bananas eaten per km to transport 3000 bananas to an intermediate point:\n",
    "\n",
    "for 1 km, to transport 1000 = 2 bananas eaten\n",
    "therefore to transport all to intermediate point 1 : 5 trips\n",
    "\n",
    "Generalizing, we get:"
   ]
  },
  {
   "cell_type": "code",
   "execution_count": 58,
   "metadata": {},
   "outputs": [],
   "source": [
    "def find_number_of_bananas_lost_to_transport_all_bananas_to_intermediate_points(starting_bananas):\n",
    "    final_bananas = 0\n",
    "    step = 0\n",
    "    while starting_bananas>0:\n",
    "        starting_bananas -= max_bananas\n",
    "        step = step + 1\n",
    "        if starting_bananas<=0:\n",
    "            break\n",
    "        final_bananas += (max_bananas-2*eat_banana)\n",
    "        step = step + 1\n",
    "    print(step)\n",
    "    return step"
   ]
  },
  {
   "cell_type": "code",
   "execution_count": 59,
   "metadata": {},
   "outputs": [
    {
     "name": "stdout",
     "output_type": "stream",
     "text": [
      "5\n",
      "3\n",
      "1\n"
     ]
    }
   ],
   "source": [
    "for starting_bananas in intermediate_points_bananas:\n",
    "    find_number_of_bananas_lost_to_transport_all_bananas_to_intermediate_points(starting_bananas)"
   ]
  },
  {
   "cell_type": "markdown",
   "metadata": {},
   "source": [
    "From the above points we can figure out the number of trips required at each step to the next step, and from these we'll figure out the distance of the point: \n",
    "\n",
    "Also it is worth to note that the camel eats this 'step' number of banana's to transport all bananas to the next point.\n",
    "\n",
    "Therefore to reach the destination in the least number of steps, we need to make sure that the bananas eaten are optimal in a way, therefore to reach the threshold that is required at first intermediate point, we find the distance:"
   ]
  },
  {
   "cell_type": "code",
   "execution_count": 62,
   "metadata": {},
   "outputs": [
    {
     "name": "stdout",
     "output_type": "stream",
     "text": [
      "5\n",
      "3\n",
      "1\n"
     ]
    },
    {
     "data": {
      "text/plain": [
       "[200.0, 333.3333333333333, 0]"
      ]
     },
     "execution_count": 62,
     "metadata": {},
     "output_type": "execute_result"
    }
   ],
   "source": [
    "for i,starting_bananas in enumerate(intermediate_points_bananas):\n",
    "    step = find_number_of_bananas_lost_to_transport_all_bananas_to_intermediate_points(starting_bananas)\n",
    "    if step>1:\n",
    "        bananas_eaten = starting_bananas-intermediate_points_bananas[i+1]\n",
    "        intermediate_points[i] = bananas_eaten/step\n",
    "intermediate_points"
   ]
  },
  {
   "cell_type": "code",
   "execution_count": 64,
   "metadata": {},
   "outputs": [
    {
     "data": {
      "text/plain": [
       "533.3333333333333"
      ]
     },
     "execution_count": 64,
     "metadata": {},
     "output_type": "execute_result"
    }
   ],
   "source": [
    "km_covered = sum(intermediate_points)\n",
    "km_covered"
   ]
  },
  {
   "cell_type": "code",
   "execution_count": 66,
   "metadata": {},
   "outputs": [
    {
     "data": {
      "text/plain": [
       "466.66666666666674"
      ]
     },
     "execution_count": 66,
     "metadata": {},
     "output_type": "execute_result"
    }
   ],
   "source": [
    "km_left = distance - km_covered\n",
    "km_left"
   ]
  },
  {
   "cell_type": "markdown",
   "metadata": {},
   "source": [
    "For this last part, these many km are left, one banana eaten for each km, therefore at the end, number of bananas left are:"
   ]
  },
  {
   "cell_type": "code",
   "execution_count": 67,
   "metadata": {},
   "outputs": [],
   "source": [
    "final_bananas_at_destination = intermediate_points_bananas[-1] - km_left"
   ]
  },
  {
   "cell_type": "code",
   "execution_count": 69,
   "metadata": {},
   "outputs": [
    {
     "data": {
      "text/plain": [
       "533"
      ]
     },
     "execution_count": 69,
     "metadata": {},
     "output_type": "execute_result"
    }
   ],
   "source": [
    "int(final_bananas_at_destination)"
   ]
  },
  {
   "cell_type": "code",
   "execution_count": null,
   "metadata": {},
   "outputs": [],
   "source": []
  }
 ],
 "metadata": {
  "kernelspec": {
   "display_name": "Python 3",
   "language": "python",
   "name": "python3"
  },
  "language_info": {
   "codemirror_mode": {
    "name": "ipython",
    "version": 3
   },
   "file_extension": ".py",
   "mimetype": "text/x-python",
   "name": "python",
   "nbconvert_exporter": "python",
   "pygments_lexer": "ipython3",
   "version": "3.8.2"
  }
 },
 "nbformat": 4,
 "nbformat_minor": 4
}
