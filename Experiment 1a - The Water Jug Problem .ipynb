{
 "cells": [
  {
   "cell_type": "markdown",
   "metadata": {},
   "source": [
    "# Lab1a : Implementation of toy problems (Water Jug Problem)"
   ]
  },
  {
   "cell_type": "markdown",
   "metadata": {},
   "source": [
    "<div style=\"text-align: right\">\n",
    "<font size=\"+0.5\">-Shreyas Raoarne</font><br>\n",
    "<font size=\"+0.5\">-RA1811028010016</font>\n",
    "</div>"
   ]
  },
  {
   "cell_type": "markdown",
   "metadata": {},
   "source": [
    "## AIM: To write and execute a code for the water jug problem"
   ]
  },
  {
   "cell_type": "markdown",
   "metadata": {},
   "source": [
    "## STATE SPACE TREE: "
   ]
  },
  {
   "cell_type": "markdown",
   "metadata": {},
   "source": [
    "![](State_Space_Tree.jpeg)"
   ]
  },
  {
   "cell_type": "markdown",
   "metadata": {},
   "source": [
    "Accepting the inputs using the input function and converting them to integers:"
   ]
  },
  {
   "cell_type": "code",
   "execution_count": 1,
   "metadata": {},
   "outputs": [
    {
     "name": "stdout",
     "output_type": "stream",
     "text": [
      "Maximum Capacity of jug 1: 3\n",
      "Maximum Capacity of jug 2: 5\n",
      "Desired Capacity: 4\n"
     ]
    }
   ],
   "source": [
    "j1 = int(input('Maximum Capacity of jug 1: '))\n",
    "j2 = int(input('Maximum Capacity of jug 2: '))\n",
    "d = int(input('Desired Capacity: '))"
   ]
  },
  {
   "cell_type": "markdown",
   "metadata": {},
   "source": [
    "Using Euclidean Algorithm to find the greatest common divisor of two numbers "
   ]
  },
  {
   "cell_type": "code",
   "execution_count": 2,
   "metadata": {},
   "outputs": [],
   "source": [
    "def gcd(a, b):\n",
    "    while(b):\n",
    "        a, b = b, a%b\n",
    "    return a"
   ]
  },
  {
   "cell_type": "markdown",
   "metadata": {},
   "source": [
    "Printin the path till we reach the solution\n",
    "Final way/path stored in the python list: final_method"
   ]
  },
  {
   "cell_type": "code",
   "execution_count": 3,
   "metadata": {},
   "outputs": [],
   "source": [
    "#find and list the pours\n",
    "def Pour(to_jug_max, from_jug_max, d):\n",
    "    final_method = []\n",
    "    #Current amount => from jug full, to jug empty\n",
    "    from_jug = from_jug_max\n",
    "    to_jug = 0\n",
    "    \n",
    "    step = 1\n",
    "    print('Step',step,':', from_jug, to_jug)\n",
    "    final_method.append([from_jug, to_jug])\n",
    "    \n",
    "    while((from_jug != d) and (to_jug != d)):\n",
    "        #max amount that can be poured, minimum of the space left in to_jug or water in from_jug\n",
    "        amount_poured = min(from_jug, to_jug_max-to_jug)\n",
    "        \n",
    "        #pour amount_poured from from_jug to to_jug\n",
    "        to_jug = to_jug + amount_poured\n",
    "        from_jug = from_jug - amount_poured\n",
    "        \n",
    "        step = step + 1\n",
    "        print('Step',step,':', from_jug, to_jug)\n",
    "        final_method.append([from_jug, to_jug])\n",
    "        \n",
    "        #Solution Obtained\n",
    "        if ((from_jug == d) or (to_jug == d)):\n",
    "            break\n",
    "        \n",
    "        #fill from_jug if empty\n",
    "        if from_jug == 0:\n",
    "            from_jug = from_jug_max\n",
    "            step = step + 1\n",
    "            print('Step',step,':', from_jug, to_jug)\n",
    "            final_method.append([from_jug, to_jug])\n",
    "        \n",
    "        #empty to_jug if full\n",
    "        if to_jug == to_jug_max:\n",
    "            to_jug = 0\n",
    "            step = step + 1\n",
    "            print('Step',step,':', from_jug, to_jug)\n",
    "            final_method.append([from_jug, to_jug])\n",
    "    \n",
    "    return final_method, step"
   ]
  },
  {
   "cell_type": "markdown",
   "metadata": {},
   "source": [
    "If the greatest common divisor of j1 and j2 is divisible by d, then and only then isthis problem is possible\n",
    "Printing the list: final_method"
   ]
  },
  {
   "cell_type": "code",
   "execution_count": 4,
   "metadata": {
    "scrolled": true
   },
   "outputs": [
    {
     "name": "stdout",
     "output_type": "stream",
     "text": [
      "Method 1: Pour J1 to J2\n",
      "Step 1 : 3 0\n",
      "Step 2 : 0 3\n",
      "Step 3 : 3 3\n",
      "Step 4 : 1 5\n",
      "Step 5 : 1 0\n",
      "Step 6 : 0 1\n",
      "Step 7 : 3 1\n",
      "Step 8 : 0 4\n",
      "\n",
      "Method 2: Pour J2 to J1\n",
      "Step 1 : 5 0\n",
      "Step 2 : 2 3\n",
      "Step 3 : 2 0\n",
      "Step 4 : 0 2\n",
      "Step 5 : 5 2\n",
      "Step 6 : 4 3\n",
      "\n",
      "\n",
      "Final Method: \n",
      "Pour J2 to J1: \n",
      "[[5, 0], [2, 3], [2, 0], [0, 2], [5, 2], [4, 3]]\n"
     ]
    }
   ],
   "source": [
    "if (d%gcd(j1,j2) != 0):\n",
    "    print(d, gcd(j1,j2))\n",
    "    print('Not possible')\n",
    "\n",
    "else:\n",
    "    print('Method 1: Pour J1 to J2')\n",
    "    j1j2, step1 = Pour(j2,j1,d)\n",
    "    print('\\nMethod 2: Pour J2 to J1')\n",
    "    j2j1, step2 = Pour(j1,j2,d)\n",
    "    \n",
    "    print('\\n\\nFinal Method: ')\n",
    "    if (step1< step2):\n",
    "        print('Pour J1 to J2: ')\n",
    "        print(j1j2)\n",
    "    else:\n",
    "        print('Pour J2 to J1: ')\n",
    "        print(j2j1)"
   ]
  },
  {
   "cell_type": "markdown",
   "metadata": {},
   "source": [
    "## Result: Successfully written and executed the code for the water jug problem. "
   ]
  }
 ],
 "metadata": {
  "kernelspec": {
   "display_name": "Python 3",
   "language": "python",
   "name": "python3"
  },
  "language_info": {
   "codemirror_mode": {
    "name": "ipython",
    "version": 3
   },
   "file_extension": ".py",
   "mimetype": "text/x-python",
   "name": "python",
   "nbconvert_exporter": "python",
   "pygments_lexer": "ipython3",
   "version": "3.8.2"
  }
 },
 "nbformat": 4,
 "nbformat_minor": 4
}
